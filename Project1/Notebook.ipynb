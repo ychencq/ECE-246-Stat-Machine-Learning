{
  "nbformat": 4,
  "nbformat_minor": 0,
  "metadata": {
    "kernelspec": {
      "display_name": "Python 3",
      "language": "python",
      "name": "python3"
    },
    "language_info": {
      "codemirror_mode": {
        "name": "ipython",
        "version": 3
      },
      "file_extension": ".py",
      "mimetype": "text/x-python",
      "name": "python",
      "nbconvert_exporter": "python",
      "pygments_lexer": "ipython3",
      "version": "3.8.5"
    },
    "colab": {
      "name": "Notebook.ipynb",
      "provenance": [],
      "collapsed_sections": [],
      "include_colab_link": true
    }
  },
  "cells": [
    {
      "cell_type": "markdown",
      "metadata": {
        "id": "view-in-github",
        "colab_type": "text"
      },
      "source": [
        "<a href=\"https://colab.research.google.com/github/ychencq/ECE-246-Stat-Machine-Learning/blob/main/Project1/Notebook.ipynb\" target=\"_parent\"><img src=\"https://colab.research.google.com/assets/colab-badge.svg\" alt=\"Open In Colab\"/></a>"
      ]
    },
    {
      "cell_type": "markdown",
      "metadata": {
        "id": "mL5lvfDGSRpN"
      },
      "source": [
        "[link text](https://)# Section \\#1: Centralized Algorithms"
      ]
    },
    {
      "cell_type": "markdown",
      "metadata": {
        "id": "xj5gXLsxSRpR"
      },
      "source": [
        "## Section \\#1.1: LINEAR REGRESSION\n",
        "\n",
        "Please follow our instructions in the same order to solve the linear regresssion problem.\n",
        "\n",
        "Please print out the entire results and codes when completed."
      ]
    },
    {
      "cell_type": "code",
      "metadata": {
        "colab": {
          "base_uri": "https://localhost:8080/"
        },
        "id": "Fb56tE1OTXRf",
        "outputId": "ca084bf1-6105-40d3-feeb-9890dc074bb6"
      },
      "source": [
        "from google.colab import drive\n",
        "drive.mount('/content/drive')\n",
        "import os\n",
        "os.listdir('drive/Shared drives/ECE 246/')"
      ],
      "execution_count": null,
      "outputs": [
        {
          "output_type": "stream",
          "text": [
            "Mounted at /content/drive\n"
          ],
          "name": "stdout"
        },
        {
          "output_type": "execute_result",
          "data": {
            "text/plain": [
              "['Code', 'Code_Jingjing', 'Code_Chenhao', 'Code_ddh', 'REPORT_.gdoc']"
            ]
          },
          "metadata": {
            "tags": []
          },
          "execution_count": 1
        }
      ]
    },
    {
      "cell_type": "code",
      "metadata": {
        "id": "LmBgIhNdV321"
      },
      "source": [
        "import sys\n",
        "sys.path.append('drive/Shared drives/ECE 246/Code')"
      ],
      "execution_count": null,
      "outputs": []
    },
    {
      "cell_type": "code",
      "metadata": {
        "id": "z3nXhyhhSRpR"
      },
      "source": [
        "import numpy as np\n",
        "import matplotlib.pyplot as plt\n",
        "import random\n",
        "import csv\n",
        "from data_load import load\n",
        "import scipy.io as io\n",
        "# Load matplotlib images inline\n",
        "%matplotlib inline\n",
        "# These are important for reloading any code you write in external .py files.\n",
        "# see http://stackoverflow.com/questions/1907993/autoreload-of-modules-in-ipython\n",
        "%load_ext autoreload\n",
        "%autoreload 2"
      ],
      "execution_count": null,
      "outputs": []
    },
    {
      "cell_type": "code",
      "metadata": {
        "id": "D7iBPtsbSRpS",
        "colab": {
          "base_uri": "https://localhost:8080/"
        },
        "outputId": "0c70d6e8-4637-48e0-df60-65033a952c0e"
      },
      "source": [
        "def get_data():\n",
        "    \"\"\"\n",
        "    Load the dataset from disk and perform preprocessing to prepare it for the linear regression problem.   \n",
        "    \"\"\"\n",
        "    X_train, y_train = load('regression_train.csv')\n",
        "    X_val, y_val = load('regression_val.csv')\n",
        "    X_test, y_test = load('regression_test.csv')\n",
        "    return X_train, y_train, X_val, y_val, X_test, y_test\n",
        "\n",
        "X_train, y_train, X_val, y_val, X_test, y_test= get_data()  \n",
        "\n",
        "\n",
        "print('Train data shape: ', X_train.shape)\n",
        "print('Train target shape: ', y_train.shape)\n",
        "print('Validation data shape: ',X_val.shape)\n",
        "print('Validation target shape: ',y_val.shape)\n",
        "print('Test data shape: ',X_test.shape)\n",
        "print('Test target shape: ',y_test.shape)"
      ],
      "execution_count": null,
      "outputs": [
        {
          "output_type": "stream",
          "text": [
            "Train data shape:  (20, 1)\n",
            "Train target shape:  (20,)\n",
            "Validation data shape:  (20, 1)\n",
            "Validation target shape:  (20,)\n",
            "Test data shape:  (20, 1)\n",
            "Test target shape:  (20,)\n"
          ],
          "name": "stdout"
        }
      ]
    },
    {
      "cell_type": "code",
      "metadata": {
        "id": "NTd6eIj3SRpT",
        "colab": {
          "base_uri": "https://localhost:8080/",
          "height": 279
        },
        "outputId": "016cb44c-07fc-44ef-906d-e3108beedd9d"
      },
      "source": [
        "## Plot the training and test data ##\n",
        "\n",
        "plt.plot(X_train, y_train,'o', color='black')\n",
        "plt.plot(X_test, y_test,'o', color='blue')\n",
        "plt.xlabel('Train data')\n",
        "plt.ylabel('Target')\n",
        "plt.show()"
      ],
      "execution_count": null,
      "outputs": [
        {
          "output_type": "display_data",
          "data": {
            "image/png": "[encoded data removed]",
            "text/plain": [
              "<Figure size 432x288 with 1 Axes>"
            ]
          },
          "metadata": {
            "tags": [],
            "needs_background": "light"
          }
        }
      ]
    },
    {
      "cell_type": "markdown",
      "metadata": {
        "id": "AyonuJiGSRpT"
      },
      "source": [
        "### Training Linear Regression\n",
        "\n",
        "In the following cells, you will build a linear regression. You will implement its loss function, then subsequently train it with gradient descent. You will choose the learning rate of gradient descent to optimize its classification performance. Finally, you will get the opimal solution using closed form expression."
      ]
    },
    {
      "cell_type": "code",
      "metadata": {
        "id": "r-dCNsXBSRpT"
      },
      "source": [
        "from Regression import Regression"
      ],
      "execution_count": null,
      "outputs": []
    },
    {
      "cell_type": "code",
      "metadata": {
        "id": "4UA-mzMNSRpT",
        "colab": {
          "base_uri": "https://localhost:8080/"
        },
        "outputId": "3659590d-f3b3-44fd-927a-611550124b67"
      },
      "source": [
        "## Complete loss_and_grad function in Regression.py file and test your results.\n",
        "regression = Regression(m=1, reg_param=0)\n",
        "loss, grad = regression.loss_and_grad(X_train,y_train)\n",
        "print(loss)\n",
        "print(grad)\n",
        "##"
      ],
      "execution_count": null,
      "outputs": [
        {
          "output_type": "stream",
          "text": [
            "2.01169237048355\n",
            "-0.6736623321581\n"
          ],
          "name": "stdout"
        }
      ]
    },
    {
      "cell_type": "code",
      "metadata": {
        "id": "oOLzQy_1SRpT",
        "colab": {
          "base_uri": "https://localhost:8080/",
          "height": 330
        },
        "outputId": "86e8c07f-5bc5-47af-d5fe-7d95f0b9f1bb"
      },
      "source": [
        "## Complete train_LR function in Regression.py file \n",
        "loss_history, w = regression.train_LR(X_train,y_train, eta=1e-3,batch_size=20, num_iters=10000)\n",
        "plt.plot(loss_history)\n",
        "plt.xlabel('iterations')\n",
        "plt.ylabel('Loss function')\n",
        "plt.show()\n",
        "print(w)\n",
        "print(loss_history[9999])"
      ],
      "execution_count": null,
      "outputs": [
        {
          "output_type": "display_data",
          "data": {
            "image/png": "[encoded data removed]",
            "text/plain": [
              "<Figure size 432x288 with 1 Axes>"
            ]
          },
          "metadata": {
            "tags": [],
            "needs_background": "light"
          }
        },
        {
          "output_type": "stream",
          "text": [
            "[[0.44686534]\n",
            " [0.44686534]]\n",
            "1.1441824572702652\n"
          ],
          "name": "stdout"
        }
      ]
    },
    {
      "cell_type": "code",
      "metadata": {
        "id": "WqHFtHv8SRpU",
        "colab": {
          "base_uri": "https://localhost:8080/"
        },
        "outputId": "c6fa46ad-94f8-4de4-f679-162cef8fdb39"
      },
      "source": [
        "## Complete closed_form function in Regression.py file\n",
        "loss_2, w_2 = regression.closed_form(X_train, y_train)\n",
        "print(loss_2)\n",
        "print(w_2)"
      ],
      "execution_count": null,
      "outputs": [
        {
          "output_type": "stream",
          "text": [
            "0.19562882028957315\n",
            "[ 2.44640709 -2.81635359]\n"
          ],
          "name": "stdout"
        }
      ]
    },
    {
      "cell_type": "code",
      "metadata": {
        "id": "x-CKS7vPSRpU",
        "colab": {
          "base_uri": "https://localhost:8080/",
          "height": 295
        },
        "outputId": "33c4966a-2139-4e72-e4c9-2f8cde43a86b"
      },
      "source": [
        "# ================================================================ #\n",
        "# YOUR CODE HERE:\n",
        "# complete the following code to plot both the training and test loss in the same plot\n",
        "# for m range from 1 to 10\n",
        "# ================================================================ #\n",
        "train_l=[]\n",
        "test_l=[]\n",
        "for i in np.arange(1,11):\n",
        "    regression_x = Regression(i, reg_param=0)\n",
        "    train_loss,train_w = regression_x.closed_form(X_train,y_train)\n",
        "    train_l.append(train_loss)\n",
        "    test_loss,test_w = regression_x.closed_form(X_test,y_test)\n",
        "    test_l.append(test_loss)\n",
        "\n",
        "plt.plot(train_l,label='train')\n",
        "plt.plot(test_l,label='test')\n",
        "plt.legend();\n",
        "\n",
        "plt.xlabel('polynomial degree value')\n",
        "plt.ylabel('Train data loss and test data loss')\n",
        "plt.title('comparison of Train / Test loss ')\n",
        "plt.show()\n",
        "# ================================================================ #\n",
        "# END YOUR CODE HERE\n",
        "# ================================================================ #\n",
        "\n"
      ],
      "execution_count": null,
      "outputs": [
        {
          "output_type": "display_data",
          "data": {
            "image/png": "[encoded data removed]",
            "text/plain": [
              "<Figure size 432x288 with 1 Axes>"
            ]
          },
          "metadata": {
            "tags": [],
            "needs_background": "light"
          }
        }
      ]
    },
    {
      "cell_type": "code",
      "metadata": {
        "id": "8j62og3JSRpU",
        "colab": {
          "base_uri": "https://localhost:8080/",
          "height": 295
        },
        "outputId": "4885eab5-e19b-4c9c-d29c-b083af1f0c86"
      },
      "source": [
        "train_loss=np.zeros((10,1))\n",
        "test_loss=np.zeros((10,1))\n",
        "# ================================================================ #\n",
        "# YOUR CODE HERE:\n",
        "# complete the following code to plot both the training and test loss in the same plot\n",
        "# for lambda from set of values given.\n",
        "# ================================================================ #\n",
        "reg_params = [0,1e-8,1e-7,1e-6,1e-5,1e-4,1e-3,1e-2,1e-1,1]\n",
        "Train_l=[]\n",
        "Test_l=[]\n",
        "for reg in reg_params:\n",
        "    regression_xx = Regression(10, reg_param=reg)\n",
        "    train_loss,train_w = regression_xx.closed_form(X_train,y_train)\n",
        "    Train_l.append(train_loss)\n",
        "    test_loss,test_w = regression_xx.closed_form(X_test,y_test)\n",
        "    Test_l.append(test_loss)\n",
        "plt.plot(Train_l,label='train')\n",
        "plt.plot(Test_l,label='test')\n",
        "#plt.semilogx([reg_params],[Train_l])\n",
        "plt.xlabel('lamda value in logistic scale from 0 to 1 ')\n",
        "plt.ylabel('Train data loss and test data loss')\n",
        "plt.title('comparision of Train / test loss ')\n",
        "plt.show()\n",
        "# ================================================================ #\n",
        "# END YOUR CODE HERE\n",
        "# ================================================================ #"
      ],
      "execution_count": null,
      "outputs": [
        {
          "output_type": "display_data",
          "data": {
            "image/png": "[encoded data removed]",
            "text/plain": [
              "<Figure size 432x288 with 1 Axes>"
            ]
          },
          "metadata": {
            "tags": [],
            "needs_background": "light"
          }
        }
      ]
    },
    {
      "cell_type": "markdown",
      "metadata": {
        "id": "_OvlrAKvSRpU"
      },
      "source": [
        "## Section \\#1.2: Binary Classification \n",
        "\n",
        "Please follow our instructions in the same order to solve the binary classification problem.\n",
        "\n",
        "Please print out the entire results and codes when completed."
      ]
    },
    {
      "cell_type": "code",
      "metadata": {
        "id": "LMn9zN4qSRpU",
        "colab": {
          "base_uri": "https://localhost:8080/"
        },
        "outputId": "5be1dae6-a25c-4d37-f1a7-64b55c762952"
      },
      "source": [
        "\"\"\"\n",
        "Load the dataset from disk and perform preprocessing to prepare it for the linear regression problem.   \n",
        "\"\"\"\n",
        "train = io.loadmat('drive/Shared drives/ECE 246/Code/mnist_train')\n",
        "test = io.loadmat('drive/Shared drives/ECE 246/Code/mnist_test')\n",
        "X_train = train['X_train']\n",
        "y_train = np.transpose(train['y_train'])\n",
        "X_test = test['X_test']\n",
        "y_test = np.transpose(test['y_test'])\n",
        "\n",
        "print('Train data shape: ', X_train.shape)\n",
        "print('Train target shape: ', y_train.shape)\n",
        "print('Test data shape: ',X_test.shape)\n",
        "print('Test target shape: ',y_test.shape)\n"
      ],
      "execution_count": null,
      "outputs": [
        {
          "output_type": "stream",
          "text": [
            "Train data shape:  (5000, 784)\n",
            "Train target shape:  (5000, 1)\n",
            "Test data shape:  (500, 784)\n",
            "Test target shape:  (500, 1)\n"
          ],
          "name": "stdout"
        }
      ]
    },
    {
      "cell_type": "code",
      "metadata": {
        "id": "zLE0furDSRpV",
        "colab": {
          "base_uri": "https://localhost:8080/",
          "height": 282
        },
        "outputId": "700213d7-af0f-4e75-fed7-e599667bcc73"
      },
      "source": [
        "# To Visualize a point in the dataset\n",
        "index = 4000\n",
        "X = np.array(X_train[index], dtype='uint8')\n",
        "X = X.reshape((28, 28))\n",
        "fig = plt.figure()\n",
        "plt.imshow(X, cmap='gray')\n",
        "plt.show()\n",
        "fig.savefig('Sample.pdf')\n",
        "if y_train[index] == 1:\n",
        "    label = 3\n",
        "else:\n",
        "    label = 2\n",
        "print('label is', label)"
      ],
      "execution_count": null,
      "outputs": [
        {
          "output_type": "display_data",
          "data": {
            "image/png": "[encoded data removed]",
            "text/plain": [
              "<Figure size 432x288 with 1 Axes>"
            ]
          },
          "metadata": {
            "tags": [],
            "needs_background": "light"
          }
        },
        {
          "output_type": "stream",
          "text": [
            "label is 3\n"
          ],
          "name": "stdout"
        }
      ]
    },
    {
      "cell_type": "markdown",
      "metadata": {
        "id": "kPusXH_eSRpV"
      },
      "source": [
        "## Train Perceptron\n",
        "In the following cells, you will build Perceptron Algorithm."
      ]
    },
    {
      "cell_type": "code",
      "metadata": {
        "id": "OrfGLFdNSRpV",
        "colab": {
          "base_uri": "https://localhost:8080/"
        },
        "outputId": "e72a8540-d906-4149-aca7-2cae42e38777"
      },
      "source": [
        "N = X_train.shape[0] # Number of data point\n",
        "d = X_train.shape[1] # Number of features\n",
        "loss_hist = []\n",
        "W = np.zeros((d,1))\n",
        "# ================================================================ #\n",
        "# YOUR CODE HERE:\n",
        "# Implement the perceptron Algorithm and compute the number of misclassified points at each training step\n",
        "# ================================================================ #\n",
        "iter = N\n",
        "for _ in range(iter):\n",
        "  error = 0\n",
        "  for inputs, label in zip(X_train, y_train):\n",
        "    predict = np.dot(W.T,inputs.T)\n",
        "    # print(predict)\n",
        "    # print(label*predict)\n",
        "    judge = label*predict\n",
        "    if judge[0]<=0:\n",
        "      # print(\"in\")\n",
        "      error = error + 1\n",
        "      update = (label*inputs).reshape(-1,1)\n",
        "      W = W+update\n",
        "  loss_hist.append(error)\n",
        "\n",
        "  \n",
        "print(loss_hist[4999])\n",
        "# ================================================================ #\n",
        "# END YOUR CODE HERE\n",
        "# ================================================================ #"
      ],
      "execution_count": null,
      "outputs": [
        {
          "output_type": "stream",
          "text": [
            "0\n"
          ],
          "name": "stdout"
        }
      ]
    },
    {
      "cell_type": "code",
      "metadata": {
        "colab": {
          "base_uri": "https://localhost:8080/"
        },
        "id": "KMHc3VJfZ-fa",
        "outputId": "def9e14b-3887-4d23-bb36-8f831a60d9ad"
      },
      "source": [
        "\r\n",
        "print(np.linalg.norm(W,ord=2))\r\n",
        "print(loss_hist[4999])"
      ],
      "execution_count": null,
      "outputs": [
        {
          "output_type": "stream",
          "text": [
            "421741.3164879628\n",
            "0\n"
          ],
          "name": "stdout"
        }
      ]
    },
    {
      "cell_type": "code",
      "metadata": {
        "id": "MqBcSf0wSRpV",
        "colab": {
          "base_uri": "https://localhost:8080/",
          "height": 299
        },
        "outputId": "22d2dca5-636b-46fa-aaf8-81a3f51e7498"
      },
      "source": [
        "# Compute the percentage of misclassified points in the test data for perceptron\n",
        "\n",
        "\n",
        "\n",
        "\n",
        "print(loss_hist[4999])\n",
        "error_rate = [loss/N for loss in loss_hist]\n",
        "fig = plt.figure()\n",
        "plt.plot(error_rate, label='Error Rate')\n",
        "plt.legend()\n",
        "plt.xlabel(\"iter\")\n",
        "plt.ylabel(\"Percentage of Missclassified points\")\n",
        "plt.show()"
      ],
      "execution_count": null,
      "outputs": [
        {
          "output_type": "stream",
          "text": [
            "0\n"
          ],
          "name": "stdout"
        },
        {
          "output_type": "display_data",
          "data": {
            "image/png": "[encoded data removed]",
            "text/plain": [
              "<Figure size 432x288 with 1 Axes>"
            ]
          },
          "metadata": {
            "tags": [],
            "needs_background": "light"
          }
        }
      ]
    },
    {
      "cell_type": "markdown",
      "metadata": {
        "id": "fUXWm5ZYSRpV"
      },
      "source": [
        "## Train Logistic Regression\n",
        "\n",
        "In the following cells, you will build a logistic regression. You will implement its loss function, then subsequently train it with gradient descent. "
      ]
    },
    {
      "cell_type": "code",
      "metadata": {
        "id": "HGoentMwSRpV"
      },
      "source": [
        "from Logistic import Logistic"
      ],
      "execution_count": null,
      "outputs": []
    },
    {
      "cell_type": "code",
      "metadata": {
        "id": "dt7FOcg-SRpW",
        "colab": {
          "base_uri": "https://localhost:8080/"
        },
        "outputId": "80472661-295a-4d8f-bd23-ed3fca8affa3"
      },
      "source": [
        "# Complete loss_and_grad function in Logistic.py file and test your results.\n",
        "N,d = X_train.shape\n",
        "logistic = Logistic(d=d, reg_param=0)\n",
        "loss, grad = logistic.loss_and_grad(X_train,y_train)\n",
        "print('Loss function=',loss)\n",
        "print(np.linalg.norm(grad,ord=2)**2)"
      ],
      "execution_count": null,
      "outputs": [
        {
          "output_type": "stream",
          "text": [
            "Loss function= 0.6931471805599454\n",
            "78885.26903007\n"
          ],
          "name": "stdout"
        }
      ]
    },
    {
      "cell_type": "code",
      "metadata": {
        "id": "_02MXdoiSRpW",
        "colab": {
          "base_uri": "https://localhost:8080/",
          "height": 315
        },
        "outputId": "5979a4cf-c437-42b3-95f3-c229ed697d9d"
      },
      "source": [
        "# Complete train_LR function in Logisitc.py file\n",
        "loss_history, w = logistic.train_LR(X_train,y_train, eta=1e-6,batch_size=50, num_iters=5000)\n",
        "\n",
        "fig = plt.figure()\n",
        "plt.plot(loss_history)\n",
        "plt.xlabel('iterations')\n",
        "plt.ylabel('Loss function')\n",
        "plt.show()\n",
        "fig.savefig('LR_loss_hist.pdf')\n",
        "print(np.linalg.norm(w,ord=2)**2)\n",
        "print(loss_history[4999])"
      ],
      "execution_count": null,
      "outputs": [
        {
          "output_type": "display_data",
          "data": {
            "image/png": "[encoded data removed]",
            "text/plain": [
              "<Figure size 432x288 with 1 Axes>"
            ]
          },
          "metadata": {
            "tags": [],
            "needs_background": "light"
          }
        },
        {
          "output_type": "stream",
          "text": [
            "0.00019980738370628065\n",
            "0.1505163607426023\n"
          ],
          "name": "stdout"
        }
      ]
    },
    {
      "cell_type": "code",
      "metadata": {
        "id": "LgYsbUi0SRpW"
      },
      "source": [
        "# Complete predict function in Logisitc.py file and compute the percentage of misclassified points in the test data\n"
      ],
      "execution_count": null,
      "outputs": []
    },
    {
      "cell_type": "code",
      "metadata": {
        "id": "3afeodiTSRpW",
        "colab": {
          "base_uri": "https://localhost:8080/",
          "height": 279
        },
        "outputId": "b40a38cf-8d69-41f8-f2e8-90bda3505fbb"
      },
      "source": [
        "Batch = [1, 50 , 100, 300]\n",
        "test_err = np.zeros((len(Batch),1))\n",
        "# ================================================================ #\n",
        "# YOUR CODE HERE:\n",
        "# Train the Logistic regression for different batch size Avergae the test error over 10 times\n",
        "# ================================================================ #\n",
        "for t in range (0,10):\n",
        "    for m in range(0,len(Batch)):\n",
        "      N,d = X_train.shape\n",
        "      logistic = Logistic(d=d, reg_param=0)\n",
        "      logistic.train_LR(X_train,y_train, eta=1e-6,batch_size=Batch[m], num_iters=8000//Batch[m])\n",
        "      y_pred = logistic.predict(X_test)\n",
        "      y_pred = y_pred.reshape(y_test.shape)\n",
        "      test_err[m] += np.sum((y_test!=y_pred))*100/X_test.shape[0]\n",
        "\n",
        "test_err = test_err/10\n",
        "plt.figure()\n",
        "plt.plot(Batch,test_err,'-x')\n",
        "plt.xlabel('Logistic Batch Size')\n",
        "plt.ylabel('Average Test Error')\n",
        "plt.show()\n",
        "# ================================================================ #\n",
        "# END YOUR CODE HERE\n",
        "# ================================================================ #\n",
        "\n"
      ],
      "execution_count": null,
      "outputs": [
        {
          "output_type": "display_data",
          "data": {
            "image/png": "[encoded data removed]",
            "text/plain": [
              "<Figure size 432x288 with 1 Axes>"
            ]
          },
          "metadata": {
            "tags": [],
            "needs_background": "light"
          }
        }
      ]
    },
    {
      "cell_type": "markdown",
      "metadata": {
        "id": "I7XACHwMSRpX"
      },
      "source": [
        "## Train SVM\n",
        "\n",
        "In the following cells, you will build SVM. You will implement its loss function, then subsequently train it with mini-batch gradient descent. You will choose the learning rate of gradient descent to optimize its classification performance. Finally, you will get the best regularization parameter."
      ]
    },
    {
      "cell_type": "code",
      "metadata": {
        "id": "-XVQZINZSRpX"
      },
      "source": [
        "from SVM import SVM"
      ],
      "execution_count": null,
      "outputs": []
    },
    {
      "cell_type": "code",
      "metadata": {
        "id": "cTa1gCSySRpX",
        "colab": {
          "base_uri": "https://localhost:8080/"
        },
        "outputId": "06299e31-0358-4856-da30-0b1e18c26971"
      },
      "source": [
        "# Complete loss_and_grad function in SVM.py file and test your results.\n",
        "N,d = X_train.shape\n",
        "svm = SVM(d=d, reg_param=0)\n",
        "loss, grad = svm.loss_and_grad(X_train,y_train)\n",
        "print('Loss function=',loss)\n",
        "print(np.linalg.norm(grad,ord=2)**2)"
      ],
      "execution_count": null,
      "outputs": [
        {
          "output_type": "stream",
          "text": [
            "Loss function= 1.0\n",
            "315541.07612028\n"
          ],
          "name": "stdout"
        }
      ]
    },
    {
      "cell_type": "code",
      "metadata": {
        "id": "INMvf0RXSRpX",
        "colab": {
          "base_uri": "https://localhost:8080/",
          "height": 313
        },
        "outputId": "22ddb3cd-f137-438e-cbac-6059b9d3700f"
      },
      "source": [
        "# Complete train_svm function in SVM.py file \n",
        "loss_history, w = svm.train_svm(X_train,y_train, eta=1e-6,batch_size=50, num_iters=5000)\n",
        "fig = plt.figure()\n",
        "plt.plot(loss_history)\n",
        "plt.xlabel('iterations')\n",
        "plt.ylabel('Loss function')\n",
        "plt.show()\n",
        "fig.savefig('svm_loss_hist.pdf')\n",
        "print(np.linalg.norm(w,ord=2)**2)\n",
        "print(loss_history[4999])"
      ],
      "execution_count": null,
      "outputs": [
        {
          "output_type": "display_data",
          "data": {
            "image/png": "[encoded data removed]",
            "text/plain": [
              "<Figure size 432x288 with 1 Axes>"
            ]
          },
          "metadata": {
            "tags": [],
            "needs_background": "light"
          }
        },
        {
          "output_type": "stream",
          "text": [
            "0.00020554197167599997\n",
            "0.0562364052000001\n"
          ],
          "name": "stdout"
        }
      ]
    },
    {
      "cell_type": "code",
      "metadata": {
        "id": "_Eh4SRl_SRpX",
        "colab": {
          "base_uri": "https://localhost:8080/"
        },
        "outputId": "5c3a333c-3bd1-43de-abc4-c0e76613e486"
      },
      "source": [
        "# Complete predict function in SVM.py file and compute the percentage of misclassified points in the test data\n",
        "y_pred = svm.predict(X_test)\n",
        "y_pred = y_pred.reshape(y_test.shape)\n",
        "test_err = np.sum((y_test!=y_pred))*100/X_test.shape[0]\n",
        "print(test_err)"
      ],
      "execution_count": null,
      "outputs": [
        {
          "output_type": "stream",
          "text": [
            "2.6\n"
          ],
          "name": "stdout"
        }
      ]
    },
    {
      "cell_type": "code",
      "metadata": {
        "id": "FdJ2HLpVSRpX",
        "colab": {
          "base_uri": "https://localhost:8080/",
          "height": 282
        },
        "outputId": "4db12b50-9a7d-41e8-903d-b4461e33dfde"
      },
      "source": [
        "Batch = [1, 50 , 100, 300]\n",
        "test_err = np.zeros((len(Batch),1))\n",
        "# ================================================================ #\n",
        "# YOUR CODE HERE:\n",
        "# Train the SVM for different batch size Avergae the test error over 10 times\n",
        "# ================================================================ #\n",
        "for t in range (0,10):\n",
        "    for m in range(0,len(Batch)):\n",
        "      N,d = X_train.shape\n",
        "      svm = SVM(d=d, reg_param=0)\n",
        "      svm.train_svm(X_train,y_train, eta=1e-6,batch_size=Batch[m], num_iters=8000//Batch[m])\n",
        "      y_pred = svm.predict(X_test)\n",
        "      y_pred = y_pred.reshape(y_test.shape)\n",
        "      test_err[m] += np.sum((y_test!=y_pred))*100/X_test.shape[0]\n",
        "\n",
        "test_err = test_err/10\n",
        "plt.figure()\n",
        "plt.plot(Batch,test_err,'-x')\n",
        "plt.xlabel('SVM Batch Size')\n",
        "plt.ylabel('Average Test Error')\n",
        "plt.show()\n",
        "# ================================================================ #\n",
        "# END YOUR CODE HERE\n",
        "# ================================================================ #"
      ],
      "execution_count": null,
      "outputs": [
        {
          "output_type": "display_data",
          "data": {
            "image/png": "[encoded data removed]",
            "text/plain": [
              "<Figure size 432x288 with 1 Axes>"
            ]
          },
          "metadata": {
            "tags": [],
            "needs_background": "light"
          }
        }
      ]
    },
    {
      "cell_type": "markdown",
      "metadata": {
        "id": "vwOCExdYSRpY"
      },
      "source": [
        "# Section \\#1.3: Multi-Class Logistic Regression and Adaboost \n",
        "\n",
        "Please follow our instructions in the same order to solve the linear regresssion problem.\n",
        "\n",
        "Please print out the entire results and codes when completed."
      ]
    },
    {
      "cell_type": "code",
      "metadata": {
        "colab": {
          "base_uri": "https://localhost:8080/"
        },
        "id": "rva5TBmlALqo",
        "outputId": "90725ccd-bc86-42ee-80fc-6e25a9a78ce3"
      },
      "source": [
        "pip install python-mnist"
      ],
      "execution_count": null,
      "outputs": [
        {
          "output_type": "stream",
          "text": [
            "Collecting python-mnist\n",
            "  Downloading https://files.pythonhosted.org/packages/64/f0/6086b84427c3bf156ec0b3c2f9dfc1d770b35f942b9ed8a64f5229776a80/python_mnist-0.7-py2.py3-none-any.whl\n",
            "Installing collected packages: python-mnist\n",
            "Successfully installed python-mnist-0.7\n"
          ],
          "name": "stdout"
        }
      ]
    },
    {
      "cell_type": "code",
      "metadata": {
        "id": "8IlLUZhOSRpY",
        "colab": {
          "base_uri": "https://localhost:8080/"
        },
        "outputId": "10076d4b-b790-4df7-bb2b-0bf13085c4e2"
      },
      "source": [
        "from data_loadM import load_mnist\n",
        "X_train,X_test,y_train,y_test=load_mnist()\n",
        "print('Train data shape: ', X_train.shape)\n",
        "print('Train target shape: ', y_train.shape)\n",
        "print('Test data shape: ',X_test.shape)\n",
        "print('Test target shape: ',y_test.shape)"
      ],
      "execution_count": null,
      "outputs": [
        {
          "output_type": "stream",
          "text": [
            "Train data shape:  (60000, 784)\n",
            "Train target shape:  (60000,)\n",
            "Test data shape:  (10000, 784)\n",
            "Test target shape:  (10000,)\n"
          ],
          "name": "stdout"
        }
      ]
    },
    {
      "cell_type": "code",
      "metadata": {
        "id": "aSkmPIt-SRpY",
        "colab": {
          "base_uri": "https://localhost:8080/",
          "height": 282
        },
        "outputId": "98d27aa4-2203-46fb-fbcf-c163e0d1de43"
      },
      "source": [
        "# To Visualize a point in the dataset\n",
        "index = 4000\n",
        "X = np.array(X_train[index], dtype='uint8')\n",
        "X = X.reshape((28, 28))\n",
        "fig = plt.figure()\n",
        "plt.imshow(X, cmap='gray')\n",
        "plt.show()\n",
        "fig.savefig('Sample.pdf')\n",
        "print('label is', y_train[index])"
      ],
      "execution_count": null,
      "outputs": [
        {
          "output_type": "display_data",
          "data": {
            "image/png": "[encoded data removed]",
            "text/plain": [
              "<Figure size 432x288 with 1 Axes>"
            ]
          },
          "metadata": {
            "tags": [],
            "needs_background": "light"
          }
        },
        {
          "output_type": "stream",
          "text": [
            "label is 7\n"
          ],
          "name": "stdout"
        }
      ]
    },
    {
      "cell_type": "markdown",
      "metadata": {
        "id": "awncz5ZlSRpY"
      },
      "source": [
        "## Train Multi-Class Logistic Regression\n",
        "\n",
        "In the following cells, you will build a Multi-Class logistic regression. You will implement its loss function, then subsequently train it with gradient descent. You will implement L1 norm regularization, and choose the best regularization parameter."
      ]
    },
    {
      "cell_type": "code",
      "metadata": {
        "id": "G7SMWjE5SRpY"
      },
      "source": [
        "from MLogistic import MLogistic"
      ],
      "execution_count": null,
      "outputs": []
    },
    {
      "cell_type": "code",
      "metadata": {
        "id": "g5agiAQFSRpZ",
        "colab": {
          "base_uri": "https://localhost:8080/"
        },
        "outputId": "0e3fff88-939a-458c-952a-f1860c164799"
      },
      "source": [
        "## Complete loss_and_grad function in Logistic.py file and test your results.\n",
        "num_classes = len(np.unique(y_train))\n",
        "num_features = X_train.shape[1]\n",
        "\n",
        "mlogistic = MLogistic(dim=[num_classes,num_features], reg_param=0)\n",
        "loss, grad = mlogistic.loss_and_grad(X_train[:5000],y_train[:5000])\n",
        "print('Loss function=',loss)\n",
        "print('Frobenius norm of grad=',np.linalg.norm(grad))\n",
        "##"
      ],
      "execution_count": null,
      "outputs": [
        {
          "output_type": "stream",
          "text": [
            "Loss function= 2.3025850929939837\n",
            "Frobenius norm of grad= 269.57149388566296\n"
          ],
          "name": "stdout"
        }
      ]
    },
    {
      "cell_type": "code",
      "metadata": {
        "id": "NQn56SH-SRpZ",
        "colab": {
          "base_uri": "https://localhost:8080/",
          "height": 313
        },
        "outputId": "d4fff718-e08d-4f3d-aa68-d11e1e91149e"
      },
      "source": [
        "## Complete train_LR function in Logistic.py file \n",
        "loss_history, w = mlogistic.train_LR(X_train,y_train, eta=1e-7,batch_size=200, num_iters=1500)\n",
        "fig = plt.figure()\n",
        "plt.plot(loss_history)\n",
        "plt.xlabel('iterations')\n",
        "plt.ylabel('Loss function')\n",
        "plt.show()\n",
        "print(np.linalg.norm(w))\n",
        "print(loss_history[1499])"
      ],
      "execution_count": null,
      "outputs": [
        {
          "output_type": "display_data",
          "data": {
            "image/png": "[encoded data removed]",
            "text/plain": [
              "<Figure size 432x288 with 1 Axes>"
            ]
          },
          "metadata": {
            "tags": [],
            "needs_background": "light"
          }
        },
        {
          "output_type": "stream",
          "text": [
            "0.013277720712790339\n",
            "0.6451192316495884\n"
          ],
          "name": "stdout"
        }
      ]
    },
    {
      "cell_type": "code",
      "metadata": {
        "id": "-EAcRflRSRpZ",
        "colab": {
          "base_uri": "https://localhost:8080/"
        },
        "outputId": "bd78e9c3-5528-4cae-854a-c558945f3c2a"
      },
      "source": [
        "# ================================================================ #\n",
        "# YOUR CODE HERE:\n",
        "#Complete predict function in Logistic.py file and compute the training error and the test error\n",
        "# ================================================================ #\n",
        "y_pred_train = mlogistic.predict(X_train)\n",
        "y_pred_train = y_pred_train.reshape(y_train.shape)\n",
        "train_err = np.sum((y_train!=y_pred_train))*100/X_train.shape[0]\n",
        "print(\"train error rate\",train_err,\"%\")\n",
        "y_pred_test = mlogistic.predict(X_test)\n",
        "y_pred_test = y_pred_test.reshape(y_test.shape)\n",
        "test_err = np.sum((y_test!=y_pred_test))*100/X_test.shape[0]\n",
        "print(\"test error rate\",test_err,\"%\")\n",
        "# ================================================================ #\n",
        "# END YOUR CODE HERE\n",
        "# ================================================================ #\n"
      ],
      "execution_count": null,
      "outputs": [
        {
          "output_type": "stream",
          "text": [
            "train error rate 14.035 %\n",
            "test error rate 12.99 %\n"
          ],
          "name": "stdout"
        }
      ]
    },
    {
      "cell_type": "code",
      "metadata": {
        "id": "lvTXXKSOSRpZ",
        "colab": {
          "base_uri": "https://localhost:8080/",
          "height": 279
        },
        "outputId": "2ac2ab87-113c-484a-b998-f8e745734066"
      },
      "source": [
        "reg = [0,1e-6,1e-3,1e-2,1e-1,1]\n",
        "train_err =np.zeros((len(reg),1))\n",
        "test_err =np.zeros((len(reg),1))\n",
        "# ================================================================ #\n",
        "# YOUR CODE HERE:\n",
        "# complete the following code to plot both the training and test loss in the same plot\n",
        "# for m range from 1 to 10\n",
        "# ================================================================ #\n",
        "num_classes = len(np.unique(y_train))\n",
        "num_features = X_train.shape[1]\n",
        "for m in range(0,len(reg)):\n",
        "  mlogistic = MLogistic(dim=[num_classes,num_features], reg_param=0)\n",
        "  loss_history, w = mlogistic.train_LR_l1(X_train,y_train, reg = reg[m], eta=1e-7,batch_size=200, num_iters=3000)\n",
        "  y_pred_train = mlogistic.predict(X_train)\n",
        "  y_pred_train = y_pred_train.reshape(y_train.shape)\n",
        "  train_error = np.sum((y_train!=y_pred_train))*100/X_train.shape[0]\n",
        "  train_err[m] = train_error\n",
        "  # print(\"train error rate\",train_err,\"%\")\n",
        "  y_pred_test = mlogistic.predict(X_test)\n",
        "  y_pred_test = y_pred_test.reshape(y_test.shape)\n",
        "  test_error = np.sum((y_test!=y_pred_test))*100/X_test.shape[0]\n",
        "  test_err[m] = test_error\n",
        "  # print(\"test error rate\",test_err,\"%\")\n",
        "\n",
        "plt.figure()\n",
        "plt.plot(reg,test_err,'-x')\n",
        "plt.plot(reg,train_err,'-o')\n",
        "plt.xlabel('L1 Reg Value')\n",
        "plt.ylabel('Average Error')\n",
        "plt.show()\n",
        "# ================================================================ #\n",
        "# END YOUR CODE HERE\n",
        "# ================================================================ #\n"
      ],
      "execution_count": null,
      "outputs": [
        {
          "output_type": "display_data",
          "data": {
            "image/png": "[encoded data removed]",
            "text/plain": [
              "<Figure size 432x288 with 1 Axes>"
            ]
          },
          "metadata": {
            "tags": [],
            "needs_background": "light"
          }
        }
      ]
    },
    {
      "cell_type": "code",
      "metadata": {
        "colab": {
          "base_uri": "https://localhost:8080/"
        },
        "id": "n67RO5n3pXxi",
        "outputId": "da016028-8f46-420d-8b36-2415c74d54f0"
      },
      "source": [
        "print(test_err)"
      ],
      "execution_count": null,
      "outputs": [
        {
          "output_type": "stream",
          "text": [
            "[[11.63]\n",
            " [11.57]\n",
            " [11.66]\n",
            " [11.62]\n",
            " [11.88]\n",
            " [13.81]]\n"
          ],
          "name": "stdout"
        }
      ]
    },
    {
      "cell_type": "code",
      "metadata": {
        "colab": {
          "base_uri": "https://localhost:8080/"
        },
        "id": "Hn5SFG6PCX5D",
        "outputId": "6d5e57d8-9445-4cae-9f91-2cbc9d1c8d62"
      },
      "source": [
        "pip install -U scikit-learn #scipy matplotlib"
      ],
      "execution_count": null,
      "outputs": [
        {
          "output_type": "stream",
          "text": [
            "Collecting scikit-learn\n",
            "\u001b[?25l  Downloading https://files.pythonhosted.org/packages/e2/4c/6111b9a325f29527d7f262e2ee8c730d354b47a728d955e186dacad57a0d/scikit_learn-0.24.1-cp36-cp36m-manylinux2010_x86_64.whl (22.2MB)\n",
            "\u001b[K     |████████████████████████████████| 22.2MB 57.8MB/s \n",
            "\u001b[?25hRequirement already satisfied, skipping upgrade: joblib>=0.11 in /usr/local/lib/python3.6/dist-packages (from scikit-learn) (1.0.0)\n",
            "Collecting threadpoolctl>=2.0.0\n",
            "  Downloading https://files.pythonhosted.org/packages/f7/12/ec3f2e203afa394a149911729357aa48affc59c20e2c1c8297a60f33f133/threadpoolctl-2.1.0-py3-none-any.whl\n",
            "Requirement already satisfied, skipping upgrade: numpy>=1.13.3 in /usr/local/lib/python3.6/dist-packages (from scikit-learn) (1.19.5)\n",
            "Requirement already satisfied, skipping upgrade: scipy>=0.19.1 in /usr/local/lib/python3.6/dist-packages (from scikit-learn) (1.4.1)\n",
            "Installing collected packages: threadpoolctl, scikit-learn\n",
            "  Found existing installation: scikit-learn 0.22.2.post1\n",
            "    Uninstalling scikit-learn-0.22.2.post1:\n",
            "      Successfully uninstalled scikit-learn-0.22.2.post1\n",
            "Successfully installed scikit-learn-0.24.1 threadpoolctl-2.1.0\n"
          ],
          "name": "stdout"
        }
      ]
    },
    {
      "cell_type": "code",
      "metadata": {
        "id": "FDiHq3PDSRpZ"
      },
      "source": [
        "from sklearn.tree import DecisionTreeClassifier"
      ],
      "execution_count": null,
      "outputs": []
    },
    {
      "cell_type": "code",
      "metadata": {
        "id": "IYY_ButhSRpZ"
      },
      "source": [
        "T = 200\n",
        "N = X_train.shape[0]\n",
        "num_classes = len(np.unique(y_train))\n",
        "num_features = X_train.shape[1]\n",
        "train_err = np.zeros((T,1))\n",
        "test_err = np.zeros((T,1))\n",
        "# ================================================================ #\n",
        "# YOUR CODE HERE:\n",
        "# complete the following code to plot both the training and test loss in the same plot\n",
        "# as a function of number of classifiers T for Adaboost Algorithm. \n",
        "# ================================================================ #\n",
        "\n",
        "#Initialize\n",
        "D = np.ones(N)/N\n",
        "aplhas = np.ones(T)\n",
        "trees = []\n",
        "train_pred = np.zeros((N,num_classes))\n",
        "test_pred = np.zeros((X_test.shape[0],num_classes))\n",
        "for t in range(0,T):\n",
        "    #Train decision Tree\n",
        "    tree = DecisionTreeClassifier(max_depth = 4)\n",
        "    tree.fit(X_train, y_train, sample_weight = D)  \n",
        "    #Compute error\n",
        "    train_pred_t = tree.predict(X_train)\n",
        "    equals = train_pred_t-y_train\n",
        "    wrongs = np.where(equals == 0,0,1)\n",
        "    weight_wrongs = D*wrongs\n",
        "    errm = np.sum(weight_wrongs)\n",
        "    # train_error = np.sum((y_train!=train_pred))*100/X_train.shape[0]\n",
        "    # test_pred = tree.predict(X_test)\n",
        "    # test_error = np.sum((y_test!=test_pred))*100/X_test.shape[0]\n",
        "    # train_err[t][0] = train_error\n",
        "    # test_err[t][0] = test_error\n",
        "    #Compute \\alpha\n",
        "    aplhas[t] = np.log((1-errm)/errm) + np.log(num_classes-1)\n",
        "    #Update weights\n",
        "    conditions = np.ones(N)\n",
        "    D = D*np.exp(aplhas[t]*wrongs)\n",
        "    sum_of_D = np.sum(D)\n",
        "    D = D/sum_of_D\n",
        "    #Predict using Last t classifiers\n",
        "    for i in range(0,N):\n",
        "      train_pred[i][train_pred_t[i]] += aplhas[t]\n",
        "\n",
        "    test_pred_t = tree.predict(X_test)\n",
        "    for i in range(0,X_test.shape[0]):\n",
        "      test_pred[i][test_pred_t[i]] += aplhas[t]\n",
        "    \n",
        "    vote_t_train = np.argmax(train_pred, axis=1)\n",
        "    vote_t_test = np.argmax(test_pred, axis=1)\n",
        "    #compute test error and train error\n",
        "    train_error = np.sum((y_train!=vote_t_train))*100/X_train.shape[0]\n",
        "    test_error = np.sum((y_test!=vote_t_test))*100/X_test.shape[0]\n",
        "    train_err[t] = train_error\n",
        "    test_err[t] = test_error\n",
        "# Plot test error and train error in the same plot vs T\n",
        "plt.figure()\n",
        "plt.plot(train_err,label = 'train error')\n",
        "plt.plot(test_err,label = 'test error')\n",
        "plt.xlabel(\"T\")\n",
        "plt.ylabel(\"Error\")\n",
        "plt.legend()\n",
        "plt.show\n",
        "# ================================================================ #\n",
        "# END YOUR CODE HERE\n",
        "# ================================================================ #\n"
      ],
      "execution_count": null,
      "outputs": []
    },
    {
      "cell_type": "code",
      "metadata": {
        "colab": {
          "base_uri": "https://localhost:8080/",
          "height": 1000
        },
        "id": "pAoDlII2P-JM",
        "outputId": "550a6779-1665-43cc-8d21-4b7af7d2b02a"
      },
      "source": [
        "\n",
        "plt.figure()\n",
        "plt.plot(train_err,label = 'train error')\n",
        "plt.plot(test_err,label = 'test error')\n",
        "plt.xlabel(\"T\")\n",
        "plt.ylabel(\"Error\")\n",
        "plt.legend()\n",
        "plt.show\n",
        "print(test_err)"
      ],
      "execution_count": null,
      "outputs": [
        {
          "output_type": "stream",
          "text": [
            "[[40.43]\n",
            " [40.43]\n",
            " [35.7 ]\n",
            " [29.9 ]\n",
            " [26.45]\n",
            " [24.11]\n",
            " [22.09]\n",
            " [21.66]\n",
            " [20.09]\n",
            " [19.78]\n",
            " [18.59]\n",
            " [17.95]\n",
            " [17.58]\n",
            " [17.33]\n",
            " [16.78]\n",
            " [16.58]\n",
            " [16.64]\n",
            " [15.89]\n",
            " [15.75]\n",
            " [15.92]\n",
            " [15.77]\n",
            " [15.11]\n",
            " [14.93]\n",
            " [14.63]\n",
            " [14.28]\n",
            " [14.36]\n",
            " [14.2 ]\n",
            " [13.86]\n",
            " [13.98]\n",
            " [13.93]\n",
            " [13.68]\n",
            " [13.79]\n",
            " [13.59]\n",
            " [12.93]\n",
            " [12.83]\n",
            " [12.83]\n",
            " [12.92]\n",
            " [13.1 ]\n",
            " [12.59]\n",
            " [13.02]\n",
            " [12.75]\n",
            " [12.75]\n",
            " [12.95]\n",
            " [12.64]\n",
            " [12.36]\n",
            " [12.01]\n",
            " [11.76]\n",
            " [12.24]\n",
            " [11.79]\n",
            " [11.74]\n",
            " [11.7 ]\n",
            " [11.77]\n",
            " [12.06]\n",
            " [11.53]\n",
            " [11.54]\n",
            " [11.23]\n",
            " [11.38]\n",
            " [11.24]\n",
            " [11.34]\n",
            " [11.35]\n",
            " [11.28]\n",
            " [11.23]\n",
            " [11.15]\n",
            " [11.08]\n",
            " [11.02]\n",
            " [10.83]\n",
            " [10.73]\n",
            " [10.51]\n",
            " [10.52]\n",
            " [10.53]\n",
            " [10.33]\n",
            " [10.55]\n",
            " [10.3 ]\n",
            " [ 9.96]\n",
            " [10.14]\n",
            " [10.27]\n",
            " [10.14]\n",
            " [10.12]\n",
            " [10.28]\n",
            " [10.63]\n",
            " [10.54]\n",
            " [10.19]\n",
            " [ 9.86]\n",
            " [ 9.76]\n",
            " [ 9.77]\n",
            " [ 9.77]\n",
            " [ 9.82]\n",
            " [ 9.86]\n",
            " [10.06]\n",
            " [ 9.76]\n",
            " [ 9.65]\n",
            " [ 9.63]\n",
            " [ 9.89]\n",
            " [ 9.68]\n",
            " [ 9.77]\n",
            " [ 9.68]\n",
            " [ 9.55]\n",
            " [ 9.31]\n",
            " [ 9.18]\n",
            " [ 9.17]\n",
            " [ 9.17]\n",
            " [ 9.18]\n",
            " [ 9.13]\n",
            " [ 9.26]\n",
            " [ 9.3 ]\n",
            " [ 9.19]\n",
            " [ 9.18]\n",
            " [ 8.95]\n",
            " [ 9.13]\n",
            " [ 9.22]\n",
            " [ 9.06]\n",
            " [ 9.08]\n",
            " [ 9.02]\n",
            " [ 9.17]\n",
            " [ 9.01]\n",
            " [ 9.2 ]\n",
            " [ 9.05]\n",
            " [ 9.03]\n",
            " [ 8.86]\n",
            " [ 8.74]\n",
            " [ 8.73]\n",
            " [ 8.6 ]\n",
            " [ 8.51]\n",
            " [ 8.65]\n",
            " [ 8.56]\n",
            " [ 8.55]\n",
            " [ 8.73]\n",
            " [ 8.64]\n",
            " [ 8.88]\n",
            " [ 8.63]\n",
            " [ 8.61]\n",
            " [ 8.79]\n",
            " [ 8.76]\n",
            " [ 8.67]\n",
            " [ 8.63]\n",
            " [ 8.68]\n",
            " [ 8.67]\n",
            " [ 8.51]\n",
            " [ 8.28]\n",
            " [ 8.22]\n",
            " [ 8.25]\n",
            " [ 8.42]\n",
            " [ 8.35]\n",
            " [ 8.23]\n",
            " [ 8.2 ]\n",
            " [ 8.25]\n",
            " [ 8.3 ]\n",
            " [ 8.21]\n",
            " [ 8.31]\n",
            " [ 8.32]\n",
            " [ 8.24]\n",
            " [ 8.13]\n",
            " [ 8.21]\n",
            " [ 8.15]\n",
            " [ 8.18]\n",
            " [ 8.16]\n",
            " [ 8.08]\n",
            " [ 8.01]\n",
            " [ 8.  ]\n",
            " [ 8.16]\n",
            " [ 8.18]\n",
            " [ 8.  ]\n",
            " [ 8.02]\n",
            " [ 7.94]\n",
            " [ 8.  ]\n",
            " [ 7.87]\n",
            " [ 7.75]\n",
            " [ 7.78]\n",
            " [ 7.8 ]\n",
            " [ 7.89]\n",
            " [ 7.96]\n",
            " [ 7.99]\n",
            " [ 8.01]\n",
            " [ 8.02]\n",
            " [ 7.98]\n",
            " [ 7.92]\n",
            " [ 7.96]\n",
            " [ 7.8 ]\n",
            " [ 7.85]\n",
            " [ 7.76]\n",
            " [ 7.62]\n",
            " [ 7.67]\n",
            " [ 7.65]\n",
            " [ 7.88]\n",
            " [ 7.68]\n",
            " [ 7.8 ]\n",
            " [ 7.88]\n",
            " [ 7.75]\n",
            " [ 7.75]\n",
            " [ 7.87]\n",
            " [ 7.81]\n",
            " [ 7.74]\n",
            " [ 7.58]\n",
            " [ 7.42]\n",
            " [ 7.5 ]\n",
            " [ 7.37]\n",
            " [ 7.42]\n",
            " [ 7.41]\n",
            " [ 7.34]\n",
            " [ 7.37]]\n"
          ],
          "name": "stdout"
        },
        {
          "output_type": "display_data",
          "data": {
            "image/png": "[encoded data removed]",
            "text/plain": [
              "<Figure size 432x288 with 1 Axes>"
            ]
          },
          "metadata": {
            "tags": [],
            "needs_background": "light"
          }
        }
      ]
    },
    {
      "cell_type": "code",
      "metadata": {
        "id": "5aeWonOI9fJu",
        "colab": {
          "base_uri": "https://localhost:8080/"
        },
        "outputId": "c7f55c1e-b277-4b7f-935b-3c90c95d65bc"
      },
      "source": [
        "print(test_err)"
      ],
      "execution_count": null,
      "outputs": [
        {
          "output_type": "stream",
          "text": [
            "[[40.43]\n",
            " [40.43]\n",
            " [35.7 ]\n",
            " [29.9 ]\n",
            " [26.45]\n",
            " [24.11]\n",
            " [22.09]\n",
            " [21.66]\n",
            " [20.09]\n",
            " [19.78]\n",
            " [18.59]\n",
            " [17.95]\n",
            " [17.58]\n",
            " [17.33]\n",
            " [16.78]\n",
            " [16.58]\n",
            " [16.64]\n",
            " [15.89]\n",
            " [15.75]\n",
            " [15.92]\n",
            " [15.77]\n",
            " [15.11]\n",
            " [14.93]\n",
            " [14.63]\n",
            " [14.28]\n",
            " [14.36]\n",
            " [14.2 ]\n",
            " [13.86]\n",
            " [13.98]\n",
            " [13.93]\n",
            " [13.68]\n",
            " [13.79]\n",
            " [13.59]\n",
            " [12.93]\n",
            " [12.83]\n",
            " [12.83]\n",
            " [12.92]\n",
            " [13.1 ]\n",
            " [12.59]\n",
            " [13.02]\n",
            " [12.75]\n",
            " [12.75]\n",
            " [12.95]\n",
            " [12.64]\n",
            " [12.36]\n",
            " [12.01]\n",
            " [11.76]\n",
            " [12.24]\n",
            " [11.79]\n",
            " [11.74]\n",
            " [11.7 ]\n",
            " [11.77]\n",
            " [12.06]\n",
            " [11.53]\n",
            " [11.54]\n",
            " [11.23]\n",
            " [11.38]\n",
            " [11.24]\n",
            " [11.34]\n",
            " [11.35]\n",
            " [11.28]\n",
            " [11.23]\n",
            " [11.15]\n",
            " [11.08]\n",
            " [11.02]\n",
            " [10.83]\n",
            " [10.73]\n",
            " [10.51]\n",
            " [10.52]\n",
            " [10.53]\n",
            " [10.33]\n",
            " [10.55]\n",
            " [10.3 ]\n",
            " [ 9.96]\n",
            " [10.14]\n",
            " [10.27]\n",
            " [10.14]\n",
            " [10.12]\n",
            " [10.28]\n",
            " [10.63]\n",
            " [10.54]\n",
            " [10.19]\n",
            " [ 9.86]\n",
            " [ 9.76]\n",
            " [ 9.77]\n",
            " [ 9.77]\n",
            " [ 9.82]\n",
            " [ 9.86]\n",
            " [10.06]\n",
            " [ 9.76]\n",
            " [ 9.65]\n",
            " [ 9.63]\n",
            " [ 9.89]\n",
            " [ 9.68]\n",
            " [ 9.77]\n",
            " [ 9.68]\n",
            " [ 9.55]\n",
            " [ 9.31]\n",
            " [ 9.18]\n",
            " [ 9.17]\n",
            " [ 9.17]\n",
            " [ 9.18]\n",
            " [ 9.13]\n",
            " [ 9.26]\n",
            " [ 9.3 ]\n",
            " [ 9.19]\n",
            " [ 9.18]\n",
            " [ 8.95]\n",
            " [ 9.13]\n",
            " [ 9.22]\n",
            " [ 9.06]\n",
            " [ 9.08]\n",
            " [ 9.02]\n",
            " [ 9.17]\n",
            " [ 9.01]\n",
            " [ 9.2 ]\n",
            " [ 9.05]\n",
            " [ 9.03]\n",
            " [ 8.86]\n",
            " [ 8.74]\n",
            " [ 8.73]\n",
            " [ 8.6 ]\n",
            " [ 8.51]\n",
            " [ 8.65]\n",
            " [ 8.56]\n",
            " [ 8.55]\n",
            " [ 8.73]\n",
            " [ 8.64]\n",
            " [ 8.88]\n",
            " [ 8.63]\n",
            " [ 8.61]\n",
            " [ 8.79]\n",
            " [ 8.76]\n",
            " [ 8.67]\n",
            " [ 8.63]\n",
            " [ 8.68]\n",
            " [ 8.67]\n",
            " [ 8.51]\n",
            " [ 8.28]\n",
            " [ 8.22]\n",
            " [ 8.25]\n",
            " [ 8.42]\n",
            " [ 8.35]\n",
            " [ 8.23]\n",
            " [ 8.2 ]\n",
            " [ 8.25]\n",
            " [ 8.3 ]\n",
            " [ 8.21]\n",
            " [ 8.31]\n",
            " [ 8.32]\n",
            " [ 8.24]\n",
            " [ 8.13]\n",
            " [ 8.21]\n",
            " [ 8.15]\n",
            " [ 8.18]\n",
            " [ 8.16]\n",
            " [ 8.08]\n",
            " [ 8.01]\n",
            " [ 8.  ]\n",
            " [ 8.16]\n",
            " [ 8.18]\n",
            " [ 8.  ]\n",
            " [ 8.02]\n",
            " [ 7.94]\n",
            " [ 8.  ]\n",
            " [ 7.87]\n",
            " [ 7.75]\n",
            " [ 7.78]\n",
            " [ 7.8 ]\n",
            " [ 7.89]\n",
            " [ 7.96]\n",
            " [ 7.99]\n",
            " [ 8.01]\n",
            " [ 8.02]\n",
            " [ 7.98]\n",
            " [ 7.92]\n",
            " [ 7.96]\n",
            " [ 7.8 ]\n",
            " [ 7.85]\n",
            " [ 7.76]\n",
            " [ 7.62]\n",
            " [ 7.67]\n",
            " [ 7.65]\n",
            " [ 7.88]\n",
            " [ 7.68]\n",
            " [ 7.8 ]\n",
            " [ 7.88]\n",
            " [ 7.75]\n",
            " [ 7.75]\n",
            " [ 7.87]\n",
            " [ 7.81]\n",
            " [ 7.74]\n",
            " [ 7.58]\n",
            " [ 7.42]\n",
            " [ 7.5 ]\n",
            " [ 7.37]\n",
            " [ 7.42]\n",
            " [ 7.41]\n",
            " [ 7.34]\n",
            " [ 7.37]]\n"
          ],
          "name": "stdout"
        }
      ]
    }
  ]
}